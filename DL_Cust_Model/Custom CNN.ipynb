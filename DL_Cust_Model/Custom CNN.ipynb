{
 "cells": [
  {
   "cell_type": "markdown",
   "metadata": {},
   "source": [
    "## Custom Model"
   ]
  },
  {
   "cell_type": "code",
   "execution_count": 0,
   "metadata": {
    "colab": {},
    "colab_type": "code",
    "id": "0jF5UUMMGtJW"
   },
   "outputs": [],
   "source": [
    "from scipy.io import loadmat\n",
    "data=loadmat(\"C:/Users/ANSUMAN/Downloads/archive (2)/sat-6-full.mat\")"
   ]
  },
  {
   "cell_type": "code",
   "execution_count": 0,
   "metadata": {
    "colab": {},
    "colab_type": "code",
    "id": "RFtAJ6qZG26_"
   },
   "outputs": [],
   "source": [
    "#move data to ndarrays\n",
    "import numpy as np\n",
    "import pandas as pd\n",
    "\n",
    "def fixaxes(inarr): #matlab format has long axis in last position, move to 1st to match tensorflow\n",
    "  return np.rollaxis(inarr,3,0)\n",
    "\n",
    "#load ndarrays from mat dictionary\n",
    "trainX=fixaxes(data['train_x']) \n",
    "trainy=data['train_y'].T\n",
    "testX=fixaxes(data['test_x'])\n",
    "testy = data['test_y'].T\n"
   ]
  },
  {
   "cell_type": "code",
   "execution_count": 0,
   "metadata": {
    "colab": {},
    "colab_type": "code",
    "id": "0i4kaZko2qfA"
   },
   "outputs": [],
   "source": [
    "#make dict for mapping output classification to human-readable name\n",
    "an=data['annotations']\n",
    "categories=dict()\n",
    "for r in range(len(an)):\n",
    "  categories[r]=an[r][1][0]\n",
    "#make series of readable training data results\n",
    "ycat=pd.DataFrame(trainy).idxmax(axis=1).map(categories)"
   ]
  },
  {
   "cell_type": "code",
   "execution_count": 6,
   "metadata": {
    "colab": {
     "base_uri": "https://localhost:8080/",
     "height": 327
    },
    "colab_type": "code",
    "id": "6KowkYFF2-lb",
    "outputId": "1986dd50-6af9-467f-ac80-7f4b8b48b217"
   },
   "outputs": [
    {
     "data": {
      "image/png": "[encoded data removed]",
      "text/plain": [
       "<Figure size 1440x720 with 4 Axes>"
      ]
     },
     "metadata": {
      "tags": []
     },
     "output_type": "display_data"
    }
   ],
   "source": [
    "# look at a few tiles, visible bands\n",
    "import matplotlib.pyplot as plt \n",
    "fig,axs=plt.subplots(1,4,figsize=(20,10))\n",
    "axs[0].imshow(trainX[0,:,:,:3])\n",
    "axs[1].imshow(trainX[6,:,:,:3])\n",
    "axs[2].imshow(trainX[2,:,:,:3])\n",
    "axs[3].imshow(trainX[8,:,:,:3])\n",
    "axs[0].set_title(ycat.loc[0])\n",
    "axs[1].set_title(ycat.loc[6])\n",
    "axs[2].set_title(ycat.loc[2])\n",
    "axs[3].set_title(ycat.loc[8]);"
   ]
  },
  {
   "cell_type": "markdown",
   "metadata": {
    "colab_type": "text",
    "id": "lgHLRE4lERHB"
   },
   "source": [
    "\n",
    "\n",
    "---\n",
    "# Implement the CNN architecture with Keras\n",
    "\n",
    "The data is ready.  Now let's try to classify the image tiles using a simple CNN.\n"
   ]
  },
  {
   "cell_type": "code",
   "execution_count": 0,
   "metadata": {
    "colab": {},
    "colab_type": "code",
    "id": "B5F3BezATNy6"
   },
   "outputs": [],
   "source": [
    "#%load_ext tensorboard\n",
    "#import datetime\n",
    "#import tensorflow as tf\n",
    "\n",
    "#log_dir=\"logs/fit/\" + datetime.datetime.now().strftime(\"%Y%m%d-%H%M%S\")\n",
    "#tensorboard_callback = tf.keras.callbacks.TensorBoard(log_dir=log_dir, histogram_freq=1)"
   ]
  },
  {
   "cell_type": "code",
   "execution_count": 8,
   "metadata": {
    "colab": {
     "base_uri": "https://localhost:8080/",
     "height": 542
    },
    "colab_type": "code",
    "id": "5z03EG8U3Fyp",
    "outputId": "ea139d94-3028-4fd9-92df-e63dbd8e54d8"
   },
   "outputs": [
    {
     "data": {
      "text/html": [
       "<p style=\"color: red;\">\n",
       "The default version of TensorFlow in Colab will soon switch to TensorFlow 2.x.<br>\n",
       "We recommend you <a href=\"https://www.tensorflow.org/guide/migrate\" target=\"_blank\">upgrade</a> now \n",
       "or ensure your notebook will continue to use TensorFlow 1.x via the <code>%tensorflow_version 1.x</code> magic:\n",
       "<a href=\"https://colab.research.google.com/notebooks/tensorflow_version.ipynb\" target=\"_blank\">more info</a>.</p>\n"
      ],
      "text/plain": [
       "<IPython.core.display.HTML object>"
      ]
     },
     "metadata": {
      "tags": []
     },
     "output_type": "display_data"
    },
    {
     "name": "stdout",
     "output_type": "stream",
     "text": [
      "WARNING:tensorflow:From /usr/local/lib/python3.6/dist-packages/tensorflow_core/python/ops/resource_variable_ops.py:1630: calling BaseResourceVariable.__init__ (from tensorflow.python.ops.resource_variable_ops) with constraint is deprecated and will be removed in a future version.\n",
      "Instructions for updating:\n",
      "If using Keras pass *_constraint arguments to layers.\n",
      "Model: \"sequential\"\n",
      "_________________________________________________________________\n",
      "Layer (type)                 Output Shape              Param #   \n",
      "=================================================================\n",
      "conv2d (Conv2D)              (None, 26, 26, 32)        1184      \n",
      "_________________________________________________________________\n",
      "max_pooling2d (MaxPooling2D) (None, 13, 13, 32)        0         \n",
      "_________________________________________________________________\n",
      "conv2d_1 (Conv2D)            (None, 11, 11, 64)        18496     \n",
      "_________________________________________________________________\n",
      "max_pooling2d_1 (MaxPooling2 (None, 5, 5, 64)          0         \n",
      "_________________________________________________________________\n",
      "flatten (Flatten)            (None, 1600)              0         \n",
      "_________________________________________________________________\n",
      "dropout (Dropout)            (None, 1600)              0         \n",
      "_________________________________________________________________\n",
      "dense (Dense)                (None, 512)               819712    \n",
      "_________________________________________________________________\n",
      "dense_1 (Dense)              (None, 6)                 3078      \n",
      "=================================================================\n",
      "Total params: 842,470\n",
      "Trainable params: 842,470\n",
      "Non-trainable params: 0\n",
      "_________________________________________________________________\n"
     ]
    }
   ],
   "source": [
    "#simple baseline CNN architecture\n",
    "#input images are 28x28 over 4 bands (R,G,B,IR)\n",
    "\n",
    "from tensorflow.keras import models,layers\n",
    "model = models.Sequential()\n",
    "model.add(layers.Conv2D(32, (3, 3), activation='relu', input_shape=(28,28, 4))) #  RGB+IR images.\n",
    "#model.add(layers.Conv2D(32, (3, 3), activation='relu'))\n",
    "model.add(layers.MaxPooling2D((2, 2)))\n",
    "model.add(layers.Conv2D(64, (3, 3), activation='relu'))\n",
    "#model.add(layers.Conv2D(64, (3, 3), activation='relu'))\n",
    "model.add(layers.MaxPooling2D((2, 2)))\n",
    "model.add(layers.Flatten())  #collapse to 1D\n",
    "model.add(layers.Dropout(0.5)) #added to reduce overfitting \n",
    "model.add(layers.Dense(512,activation='relu')) #reduce after flatten\n",
    "model.add(layers.Dense(6,activation='softmax')) #final 6-way classification, predict class\n",
    "model.summary()"
   ]
  },
  {
   "cell_type": "code",
   "execution_count": 0,
   "metadata": {
    "colab": {},
    "colab_type": "code",
    "id": "wiaoILcJ3IJI"
   },
   "outputs": [],
   "source": [
    "# Set up an image generator to feed image tiles to the model\n",
    "from tensorflow.keras.preprocessing.image import ImageDataGenerator\n",
    "train_datagen = ImageDataGenerator(rescale=1./255)\n",
    "val_datagen = ImageDataGenerator(rescale=1./255)\n",
    "train_generator=train_datagen.flow(trainX[:280000],trainy[:280000],batch_size=512) #puts 280,000 images in train\n",
    "val_generator=val_datagen.flow(trainX[280000:],trainy[280000:],batch_size=512) #puts 64,800 records in val"
   ]
  },
  {
   "cell_type": "code",
   "execution_count": 0,
   "metadata": {
    "colab": {},
    "colab_type": "code",
    "id": "EZEtNJ0L4OFN"
   },
   "outputs": [],
   "source": [
    "# Compile the model\n",
    "from tensorflow.keras import optimizers\n",
    "load_weights=False #if we want to recover the weights without rerunning the model\n",
    "model.compile(loss='categorical_crossentropy',optimizer=optimizers.SGD(learning_rate=0.01),metrics=['accuracy'])"
   ]
  },
  {
   "cell_type": "code",
   "execution_count": null,
   "metadata": {
    "colab": {
     "base_uri": "https://localhost:8080/",
     "height": 1000
    },
    "colab_type": "code",
    "id": "m6DpIjNv4OST",
    "outputId": "dc6493ef-01d2-467a-a2f1-d9244fbc27c9"
   },
   "outputs": [
    {
     "name": "stdout",
     "output_type": "stream",
     "text": [
      "Epoch 1/30\n",
      "542/545 [============================>.] - ETA: 0s - loss: 0.6758 - acc: 0.7360Epoch 1/30\n",
      "545/545 [==============================] - 8s 15ms/step - loss: 0.6739 - acc: 0.7367 - val_loss: 0.3137 - val_acc: 0.8734\n",
      "Epoch 2/30\n",
      "542/545 [============================>.] - ETA: 0s - loss: 0.2992 - acc: 0.8745Epoch 1/30\n",
      "545/545 [==============================] - 8s 15ms/step - loss: 0.2990 - acc: 0.8746 - val_loss: 0.2621 - val_acc: 0.8824\n",
      "Epoch 3/30\n",
      "541/545 [============================>.] - ETA: 0s - loss: 0.2379 - acc: 0.9043Epoch 1/30\n",
      "545/545 [==============================] - 8s 15ms/step - loss: 0.2375 - acc: 0.9044 - val_loss: 0.1955 - val_acc: 0.9192\n",
      "Epoch 4/30\n",
      "542/545 [============================>.] - ETA: 0s - loss: 0.2011 - acc: 0.9208Epoch 1/30\n",
      "545/545 [==============================] - 8s 15ms/step - loss: 0.2010 - acc: 0.9208 - val_loss: 0.1680 - val_acc: 0.9326\n",
      "Epoch 5/30\n",
      "541/545 [============================>.] - ETA: 0s - loss: 0.1739 - acc: 0.9317Epoch 1/30\n",
      "545/545 [==============================] - 8s 15ms/step - loss: 0.1738 - acc: 0.9318 - val_loss: 0.1469 - val_acc: 0.9411\n",
      "Epoch 6/30\n",
      "542/545 [============================>.] - ETA: 0s - loss: 0.1558 - acc: 0.9384Epoch 1/30\n",
      "545/545 [==============================] - 8s 15ms/step - loss: 0.1560 - acc: 0.9384 - val_loss: 0.1369 - val_acc: 0.9433\n",
      "Epoch 7/30\n",
      "544/545 [============================>.] - ETA: 0s - loss: 0.1452 - acc: 0.9422Epoch 1/30\n",
      "545/545 [==============================] - 8s 15ms/step - loss: 0.1452 - acc: 0.9422 - val_loss: 0.1224 - val_acc: 0.9507\n",
      "Epoch 8/30\n",
      "543/545 [============================>.] - ETA: 0s - loss: 0.1361 - acc: 0.9461Epoch 1/30\n",
      "545/545 [==============================] - 8s 15ms/step - loss: 0.1361 - acc: 0.9461 - val_loss: 0.1211 - val_acc: 0.9521\n",
      "Epoch 9/30\n",
      "540/545 [============================>.] - ETA: 0s - loss: 0.1271 - acc: 0.9509Epoch 1/30\n",
      "545/545 [==============================] - 8s 15ms/step - loss: 0.1270 - acc: 0.9509 - val_loss: 0.1166 - val_acc: 0.9597\n",
      "Epoch 10/30\n",
      "543/545 [============================>.] - ETA: 0s - loss: 0.1175 - acc: 0.9569Epoch 1/30\n",
      "545/545 [==============================] - 8s 15ms/step - loss: 0.1176 - acc: 0.9568 - val_loss: 0.1015 - val_acc: 0.9662\n",
      "Epoch 11/30\n",
      "544/545 [============================>.] - ETA: 0s - loss: 0.1112 - acc: 0.9604Epoch 1/30\n",
      "545/545 [==============================] - 8s 15ms/step - loss: 0.1112 - acc: 0.9604 - val_loss: 0.0974 - val_acc: 0.9671\n",
      "Epoch 12/30\n",
      "543/545 [============================>.] - ETA: 0s - loss: 0.1046 - acc: 0.9631Epoch 1/30\n",
      "545/545 [==============================] - 8s 15ms/step - loss: 0.1046 - acc: 0.9631 - val_loss: 0.0933 - val_acc: 0.9686\n",
      "Epoch 13/30\n",
      "544/545 [============================>.] - ETA: 0s - loss: 0.0996 - acc: 0.9643Epoch 1/30\n",
      "545/545 [==============================] - 8s 15ms/step - loss: 0.0996 - acc: 0.9643 - val_loss: 0.0995 - val_acc: 0.9655\n",
      "Epoch 14/30\n",
      "542/545 [============================>.] - ETA: 0s - loss: 0.0958 - acc: 0.9657Epoch 1/30\n",
      "545/545 [==============================] - 9s 16ms/step - loss: 0.0958 - acc: 0.9658 - val_loss: 0.0823 - val_acc: 0.9720\n",
      "Epoch 15/30\n",
      "540/545 [============================>.] - ETA: 0s - loss: 0.0924 - acc: 0.9667Epoch 1/30\n",
      "545/545 [==============================] - 8s 15ms/step - loss: 0.0923 - acc: 0.9667 - val_loss: 0.0831 - val_acc: 0.9716\n",
      "Epoch 16/30\n",
      "543/545 [============================>.] - ETA: 0s - loss: 0.0905 - acc: 0.9677Epoch 1/30\n",
      "545/545 [==============================] - 9s 16ms/step - loss: 0.0904 - acc: 0.9677 - val_loss: 0.0817 - val_acc: 0.9725\n",
      "Epoch 17/30\n",
      "540/545 [============================>.] - ETA: 0s - loss: 0.0879 - acc: 0.9683Epoch 1/30\n",
      "545/545 [==============================] - 9s 16ms/step - loss: 0.0879 - acc: 0.9683 - val_loss: 0.0788 - val_acc: 0.9726\n",
      "Epoch 18/30\n",
      "544/545 [============================>.] - ETA: 0s - loss: 0.0859 - acc: 0.9694Epoch 1/30\n",
      "545/545 [==============================] - 9s 16ms/step - loss: 0.0859 - acc: 0.9694 - val_loss: 0.0781 - val_acc: 0.9725\n",
      "Epoch 19/30\n",
      "542/545 [============================>.] - ETA: 0s - loss: 0.0843 - acc: 0.9699Epoch 1/30\n",
      "545/545 [==============================] - 9s 16ms/step - loss: 0.0842 - acc: 0.9700 - val_loss: 0.0785 - val_acc: 0.9724\n",
      "Epoch 20/30\n",
      "541/545 [============================>.] - ETA: 0s - loss: 0.0826 - acc: 0.9704Epoch 1/30\n",
      "545/545 [==============================] - 9s 16ms/step - loss: 0.0826 - acc: 0.9704 - val_loss: 0.0756 - val_acc: 0.9738\n",
      "Epoch 21/30\n",
      "543/545 [============================>.] - ETA: 0s - loss: 0.0810 - acc: 0.9709Epoch 1/30\n",
      "545/545 [==============================] - 9s 16ms/step - loss: 0.0810 - acc: 0.9709 - val_loss: 0.0760 - val_acc: 0.9744\n",
      "Epoch 22/30\n",
      "542/545 [============================>.] - ETA: 0s - loss: 0.0803 - acc: 0.9713Epoch 1/30\n",
      "545/545 [==============================] - 8s 15ms/step - loss: 0.0803 - acc: 0.9713 - val_loss: 0.0783 - val_acc: 0.9737\n",
      "Epoch 23/30\n",
      "542/545 [============================>.] - ETA: 0s - loss: 0.0791 - acc: 0.9718Epoch 1/30\n",
      "545/545 [==============================] - 8s 15ms/step - loss: 0.0790 - acc: 0.9718 - val_loss: 0.0767 - val_acc: 0.9741\n"
     ]
    }
   ],
   "source": [
    "# Fit the model\n",
    "from keras.callbacks import EarlyStopping\n",
    "early_stop_mon=EarlyStopping(patience=3)\n",
    "if load_weights!=True:\n",
    "    history=model.fit(train_generator,steps_per_epoch=545,epochs=30,validation_data=val_generator,validation_steps=126,callbacks=[early_stop_mon])#,tensorboard_callback])"
   ]
  },
  {
   "cell_type": "code",
   "execution_count": 0,
   "metadata": {
    "colab": {},
    "colab_type": "code",
    "id": "2Hmi5nl14OfR"
   },
   "outputs": [],
   "source": [
    "save_weights=True\n",
    "if save_weights:\n",
    "    model.save_weights('C:/Users/ANSUMAN/Downloads/archive (2)/vgg_baseline.hdf5')\n",
    "    #dump history too\n",
    "    hist_df=pd.DataFrame.from_dict(history.history)\n",
    "    hist_df.to_csv('C:/Users/ANSUMAN/Downloads/archive (2)/vgg_history.csv')\n"
   ]
  },
  {
   "cell_type": "code",
   "execution_count": 0,
   "metadata": {
    "colab": {},
    "colab_type": "code",
    "id": "tJ99vu8Vq6Gh"
   },
   "outputs": [],
   "source": [
    "model.load_weights('C:/Users/ANSUMAN/Downloads/archive (2)/vgg_baseline.hdf5')\n"
   ]
  },
  {
   "cell_type": "code",
   "execution_count": 0,
   "metadata": {
    "colab": {},
    "colab_type": "code",
    "id": "C2xxN5IPrGNz"
   },
   "outputs": [],
   "source": [
    "hist=pd.read_csv('C:/Users/ANSUMAN/Downloads/archive (2)/vgg_history.csv')"
   ]
  },
  {
   "cell_type": "markdown",
   "metadata": {
    "colab_type": "text",
    "id": "I-S8Kmrv4DWW"
   },
   "source": [
    "# Evaluate model fit\n",
    "\n",
    "In this section, the accuracy and loss values over the course of training are plotted to assess the quality of the model fit and identify potential overfitting."
   ]
  },
  {
   "cell_type": "code",
   "execution_count": 15,
   "metadata": {
    "colab": {
     "base_uri": "https://localhost:8080/",
     "height": 370
    },
    "colab_type": "code",
    "id": "XS7sVaJ_6vL5",
    "outputId": "1f37687f-2d17-48e8-ebea-5d27fb25c590"
   },
   "outputs": [
    {
     "data": {
      "image/png": "[encoded data removed]",
      "text/plain": [
       "<Figure size 936x360 with 2 Axes>"
      ]
     },
     "metadata": {
      "tags": []
     },
     "output_type": "display_data"
    }
   ],
   "source": [
    "# Plot model fitting\n",
    "# adapted from Deep Learning With Python (Chollet)\n",
    "h=history.history\n",
    "epochs = range(len(h['acc']))\n",
    "fig,ax=plt.subplots(1,2,figsize=(13,5))\n",
    "ax[0].plot(epochs, h['acc'], 'r', label='Training')\n",
    "ax[0].plot(epochs, h['val_acc'], 'b', label='Validation')\n",
    "ax[0].set_title('Accuracy')\n",
    "ax[0].set_xlabel('Epochs')\n",
    "ax[0].legend()\n",
    "ax[1].plot(epochs, h['loss'], 'r', label='Training')\n",
    "ax[1].plot(epochs, h['val_loss'], 'b', label='Validation')\n",
    "ax[1].set_title('Loss')\n",
    "ax[1].set_xlabel('Epochs')\n",
    "ax[1].legend()\n",
    "plt.suptitle('Evaluation of Model Fit Over {} Epochs'.format(len(h['acc'])));\n"
   ]
  },
  {
   "cell_type": "code",
   "execution_count": 0,
   "metadata": {
    "colab": {},
    "colab_type": "code",
    "id": "7z2CDysD7FAN"
   },
   "outputs": [],
   "source": [
    "#try with data augmentation - performed slightly worse than unaugmented data set (results not shown below)\n",
    "train_datagen_aug = ImageDataGenerator(rescale=1./255, rotation_range=90, #added image augmentation to increase training dataset size\n",
    "                                   width_shift_range=0.2, height_shift_range=0.2,\n",
    "                                   shear_range=0.2, zoom_range=0.2,\n",
    "                                   horizontal_flip=True,vertical_flip=True) #rescale to [0,1]\n",
    "\n",
    "train_generator_aug=train_datagen_aug.flow(X[:16000],y.values[:16000],batch_size=64)"
   ]
  },
  {
   "cell_type": "markdown",
   "metadata": {
    "colab_type": "text",
    "id": "64QnDpwX1CDd"
   },
   "source": [
    "# Evaluate held-out data\n",
    "\n",
    "The trained model is used to predict classes for held-out data that hasn't been used to train the model.  Various methods are used to evaluate the performance of the model. "
   ]
  },
  {
   "cell_type": "code",
   "execution_count": 0,
   "metadata": {
    "colab": {},
    "colab_type": "code",
    "id": "teh0V9tztwmR"
   },
   "outputs": [],
   "source": [
    "# Look at predictions on held-out data\n",
    "testX_rescaled=testX/255\n",
    "predy=model.predict(testX_rescaled)"
   ]
  },
  {
   "cell_type": "code",
   "execution_count": 0,
   "metadata": {
    "colab": {},
    "colab_type": "code",
    "id": "52b6HeIqjS_z"
   },
   "outputs": [],
   "source": [
    "#get pd Series of predicted and actual categories for test dataset\n",
    "testycat=pd.DataFrame(testy).idxmax(axis=1).map(categories) #actual\n",
    "testycat_pred=pd.DataFrame(predy).idxmax(axis=1).map(categories) #pred"
   ]
  },
  {
   "cell_type": "code",
   "execution_count": 12,
   "metadata": {
    "colab": {
     "base_uri": "https://localhost:8080/",
     "height": 336
    },
    "colab_type": "code",
    "id": "usGIgSQe7t7V",
    "outputId": "ea47b63d-60b6-4884-c285-a986a37a9f7c"
   },
   "outputs": [
    {
     "data": {
      "image/png": "[encoded data removed]",
      "text/plain": [
       "<Figure size 720x360 with 1 Axes>"
      ]
     },
     "metadata": {
      "tags": []
     },
     "output_type": "display_data"
    }
   ],
   "source": [
    "#Plot results\n",
    "pred_df=testycat_pred.value_counts()\n",
    "act_df=testycat.value_counts()\n",
    "fig,ax=plt.subplots(figsize=(10,5))\n",
    "ind=np.arange(6)\n",
    "width=0.35\n",
    "pred=ax.bar(ind+width,pred_df.values,width=width,label='predicted')\n",
    "act=ax.bar(ind,act_df.values,width=width,label='actual')\n",
    "ax.set_xticks(ind+width/2)\n",
    "ax.set_xticklabels(pred_df.index)\n",
    "ax.legend()\n",
    "ax.set_title('Comparison of predicted and actual categories on test dataset');"
   ]
  },
  {
   "cell_type": "code",
   "execution_count": 13,
   "metadata": {
    "colab": {
     "base_uri": "https://localhost:8080/",
     "height": 204
    },
    "colab_type": "code",
    "id": "NfMAqXhN7uJq",
    "outputId": "efe4c536-30f3-455d-faf1-b7f7e64dcba9"
   },
   "outputs": [
    {
     "data": {
      "text/html": [
       "<div>\n",
       "<style scoped>\n",
       "    .dataframe tbody tr th:only-of-type {\n",
       "        vertical-align: middle;\n",
       "    }\n",
       "\n",
       "    .dataframe tbody tr th {\n",
       "        vertical-align: top;\n",
       "    }\n",
       "\n",
       "    .dataframe thead th {\n",
       "        text-align: right;\n",
       "    }\n",
       "</style>\n",
       "<table border=\"1\" class=\"dataframe\">\n",
       "  <thead>\n",
       "    <tr style=\"text-align: right;\">\n",
       "      <th></th>\n",
       "      <th>actual</th>\n",
       "      <th>predicted</th>\n",
       "      <th>mismatch</th>\n",
       "    </tr>\n",
       "  </thead>\n",
       "  <tbody>\n",
       "    <tr>\n",
       "      <th>37</th>\n",
       "      <td>barren land</td>\n",
       "      <td>grassland</td>\n",
       "      <td>True</td>\n",
       "    </tr>\n",
       "    <tr>\n",
       "      <th>92</th>\n",
       "      <td>barren land</td>\n",
       "      <td>grassland</td>\n",
       "      <td>True</td>\n",
       "    </tr>\n",
       "    <tr>\n",
       "      <th>102</th>\n",
       "      <td>building</td>\n",
       "      <td>water</td>\n",
       "      <td>True</td>\n",
       "    </tr>\n",
       "    <tr>\n",
       "      <th>105</th>\n",
       "      <td>grassland</td>\n",
       "      <td>trees</td>\n",
       "      <td>True</td>\n",
       "    </tr>\n",
       "    <tr>\n",
       "      <th>152</th>\n",
       "      <td>road</td>\n",
       "      <td>building</td>\n",
       "      <td>True</td>\n",
       "    </tr>\n",
       "  </tbody>\n",
       "</table>\n",
       "</div>"
      ],
      "text/plain": [
       "          actual  predicted  mismatch\n",
       "37   barren land  grassland      True\n",
       "92   barren land  grassland      True\n",
       "102     building      water      True\n",
       "105    grassland      trees      True\n",
       "152         road   building      True"
      ]
     },
     "execution_count": 13,
     "metadata": {
      "tags": []
     },
     "output_type": "execute_result"
    }
   ],
   "source": [
    "#get prediction errors\n",
    "compare_df=pd.concat([testycat,testycat_pred],axis=1)\n",
    "compare_df.columns=['actual','predicted']\n",
    "compare_df=compare_df.assign(mismatch=compare_df.actual!=compare_df.predicted)\n",
    "compare_df.loc[compare_df.mismatch].head()"
   ]
  },
  {
   "cell_type": "code",
   "execution_count": 14,
   "metadata": {
    "colab": {
     "base_uri": "https://localhost:8080/",
     "height": 68
    },
    "colab_type": "code",
    "id": "qO9UFDOFs_iD",
    "outputId": "a00c3ed4-fa7a-46fc-8388-e84b52c4d4a8"
   },
   "outputs": [
    {
     "data": {
      "text/plain": [
       "False    78965\n",
       "True      2035\n",
       "Name: mismatch, dtype: int64"
      ]
     },
     "execution_count": 14,
     "metadata": {
      "tags": []
     },
     "output_type": "execute_result"
    }
   ],
   "source": [
    "compare_df['mismatch'].value_counts()"
   ]
  },
  {
   "cell_type": "code",
   "execution_count": 15,
   "metadata": {
    "colab": {
     "base_uri": "https://localhost:8080/",
     "height": 34
    },
    "colab_type": "code",
    "id": "IRQ_e3Qo7yUh",
    "outputId": "3d431c34-3209-497e-d72c-709b1670bd41"
   },
   "outputs": [
    {
     "name": "stdout",
     "output_type": "stream",
     "text": [
      "Overall accuracy on test dataset: 0.975\n"
     ]
    }
   ],
   "source": [
    "#accuracy on test dataset\n",
    "print('Overall accuracy on test dataset: {0:.3f}'.format(1-(compare_df.mismatch.sum()/compare_df.mismatch.count())))"
   ]
  },
  {
   "cell_type": "code",
   "execution_count": 18,
   "metadata": {
    "colab": {
     "base_uri": "https://localhost:8080/",
     "height": 255
    },
    "colab_type": "code",
    "id": "0mFI9FNp7yao",
    "outputId": "70b618c3-0ce8-4f01-88a3-29f589b51705"
   },
   "outputs": [
    {
     "name": "stdout",
     "output_type": "stream",
     "text": [
      "Classification Report:\n",
      "              precision    recall  f1-score   support\n",
      "\n",
      " barren land       0.99      0.95      0.97     18367\n",
      "    building       0.95      0.97      0.96      3714\n",
      "   grassland       0.93      0.95      0.94     12596\n",
      "        road       0.93      0.87      0.90      2070\n",
      "       trees       0.97      0.99      0.98     14185\n",
      "       water       1.00      1.00      1.00     30068\n",
      "\n",
      "    accuracy                           0.97     81000\n",
      "   macro avg       0.96      0.96      0.96     81000\n",
      "weighted avg       0.98      0.97      0.97     81000\n",
      "\n"
     ]
    }
   ],
   "source": [
    "# Look at confusion matrix, classification report\n",
    "from sklearn.metrics import classification_report,confusion_matrix\n",
    "print('Classification Report:')\n",
    "print(classification_report(testycat,testycat_pred))\n",
    "#print('Confusion Matrix:')\n",
    "#print(confusion_matrix(testycat,testycat_pred))\n",
    "#print('\\nNumber of Correct Classifications:')\n",
    "correct=compare_df.loc[~compare_df.mismatch].groupby(['actual','predicted']).count()\n",
    "#correct.columns=['Correct']\n",
    "#print(correct) #check order of entries in confusion matrix"
   ]
  },
  {
   "cell_type": "code",
   "execution_count": 33,
   "metadata": {
    "colab": {
     "base_uri": "https://localhost:8080/",
     "height": 295
    },
    "colab_type": "code",
    "id": "iUpUHLCI8E-H",
    "outputId": "f3dbe5eb-d9b0-4df6-82b1-d9968871d9a8"
   },
   "outputs": [
    {
     "data": {
      "image/png": "[encoded data removed]",
      "text/plain": [
       "<Figure size 432x288 with 1 Axes>"
      ]
     },
     "metadata": {
      "tags": []
     },
     "output_type": "display_data"
    }
   ],
   "source": [
    "#plot confusion matrix as heatmap\n",
    "import seaborn as sns\n",
    "cm=confusion_matrix(testycat,testycat_pred)\n",
    "labels=correct.index.get_level_values(0).values\n",
    "ax=sns.heatmap(cm,xticklabels=labels,yticklabels=labels,annot=True,fmt='d',cmap=\"YlGnBu\",cbar=False)\n",
    "ax.set_title('Confusion Matrix')\n",
    "ax.set_ylabel('Actual')\n",
    "ax.set_xlabel('Predicted');\n"
   ]
  },
  {
   "cell_type": "code",
   "execution_count": 23,
   "metadata": {
    "colab": {
     "base_uri": "https://localhost:8080/",
     "height": 241
    },
    "colab_type": "code",
    "id": "3iN8X7d97yYP",
    "outputId": "5415effd-ea34-4bde-9274-f6cbab832235"
   },
   "outputs": [
    {
     "name": "stdout",
     "output_type": "stream",
     "text": [
      "building       180\n",
      "water           39\n",
      "grassland       38\n",
      "trees           10\n",
      "barren land      3\n",
      "Name: predicted, dtype: int64\n"
     ]
    },
    {
     "name": "stderr",
     "output_type": "stream",
     "text": [
      "/usr/local/lib/python3.6/dist-packages/ipykernel_launcher.py:3: SettingWithCopyWarning: \n",
      "A value is trying to be set on a copy of a slice from a DataFrame.\n",
      "Try using .loc[row_indexer,col_indexer] = value instead\n",
      "\n",
      "See the caveats in the documentation: http://pandas.pydata.org/pandas-docs/stable/user_guide/indexing.html#returning-a-view-versus-a-copy\n",
      "  This is separate from the ipykernel package so we can avoid doing imports until\n"
     ]
    }
   ],
   "source": [
    "# roads have slightly lower recall comparted to other categories (often misclassified as buildings)\n",
    "# get indices of misclassifications of roads\n",
    "road_mismatch=compare_df.loc[(compare_df.mismatch)&(compare_df.actual=='road')]\n",
    "print(road_mismatch['predicted'].value_counts()) #roads most often misclassified as buildings\n",
    "road_mismatch['ixcopy']=road_mismatch.index\n",
    "mismatches=road_mismatch.groupby('predicted')['ixcopy'].first()"
   ]
  },
  {
   "cell_type": "code",
   "execution_count": 24,
   "metadata": {
    "colab": {
     "base_uri": "https://localhost:8080/",
     "height": 324
    },
    "colab_type": "code",
    "id": "LaGqaC5L8bLr",
    "outputId": "c0d801c1-3059-4b6a-d747-e5c5ea24efc3"
   },
   "outputs": [
    {
     "data": {
      "image/png": "[encoded data removed]",
      "text/plain": [
       "<Figure size 1800x720 with 5 Axes>"
      ]
     },
     "metadata": {
      "tags": []
     },
     "output_type": "display_data"
    }
   ],
   "source": [
    "#view some mismatches\n",
    "fig,axs=plt.subplots(1,5,figsize=(25,10))\n",
    "axix=0\n",
    "for i,v in mismatches.iteritems():\n",
    "  axs[axix].imshow(testX[v,:,:,:3])\n",
    "  axs[axix].set_title('Road misclassified as {}'.format(i))\n",
    "  axix+=1"
   ]
  }
 ],
 "metadata": {
  "accelerator": "GPU",
  "colab": {
   "collapsed_sections": [],
   "include_colab_link": true,
   "machine_shape": "hm",
   "name": "SatelliteImageryClassification.ipynb",
   "provenance": []
  },
  "kernelspec": {
   "display_name": "Python 3",
   "name": "python3"
  },
  "language_info": {
   "codemirror_mode": {
    "name": "ipython",
    "version": 3
   },
   "file_extension": ".py",
   "mimetype": "text/x-python",
   "name": "python",
   "nbconvert_exporter": "python",
   "pygments_lexer": "ipython3",
   "version": "3.10.11"
  }
 },
 "nbformat": 4,
 "nbformat_minor": 0
}
